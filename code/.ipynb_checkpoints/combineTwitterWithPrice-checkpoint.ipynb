{
 "cells": [
  {
   "cell_type": "code",
   "execution_count": 29,
   "metadata": {},
   "outputs": [],
   "source": [
    "import pandas as pd\n",
    "from datetime import datetime\n",
    "import os"
   ]
  },
  {
   "cell_type": "code",
   "execution_count": 57,
   "metadata": {},
   "outputs": [],
   "source": [
    "os.chdir('/Users/stevelee/Documents/Research/DigitalAsset_Analysis/data')\n",
    "df_twitter = pd.read_csv('twitter_crypto.csv')\n",
    "df_twitter['Date'] = pd.to_datetime(df_twitter['Date'], format='%Y-%m-%d %H:%M:%S', errors='coerce')\n",
    "\n",
    "df_price = pd.read_csv('coinData_hourly(Aug17-April18).csv')\n",
    "df_price['Time'] = pd.to_datetime(df_price['Time'], unit='s')"
   ]
  },
  {
   "cell_type": "code",
   "execution_count": null,
   "metadata": {},
   "outputs": [],
   "source": []
  }
 ],
 "metadata": {
  "kernelspec": {
   "display_name": "Python 3",
   "language": "python",
   "name": "python3"
  },
  "language_info": {
   "codemirror_mode": {
    "name": "ipython",
    "version": 3
   },
   "file_extension": ".py",
   "mimetype": "text/x-python",
   "name": "python",
   "nbconvert_exporter": "python",
   "pygments_lexer": "ipython3",
   "version": "3.6.5"
  }
 },
 "nbformat": 4,
 "nbformat_minor": 2
}
